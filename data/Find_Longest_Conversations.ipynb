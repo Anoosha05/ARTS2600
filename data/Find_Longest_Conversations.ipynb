{
 "cells": [
  {
   "cell_type": "code",
   "execution_count": 40,
   "id": "03578cb7-78d6-488b-bd8a-56fec34aa347",
   "metadata": {
    "execution": {
     "iopub.execute_input": "2025-04-02T12:03:36.479301Z",
     "iopub.status.busy": "2025-04-02T12:03:36.479301Z",
     "iopub.status.idle": "2025-04-02T12:03:36.861585Z",
     "shell.execute_reply": "2025-04-02T12:03:36.861585Z",
     "shell.execute_reply.started": "2025-04-02T12:03:36.479301Z"
    }
   },
   "outputs": [],
   "source": [
    "import re\n",
    "\n",
    "# Load the file\n",
    "with open('long_conversation_analysis_trump_01_12_2017_text.txt', 'r', encoding='utf-8') as f:\n",
    "    data = f.read()\n",
    "\n",
    "# Normalize line endings and strip leading numbers before \"Tweet ID:\"\n",
    "data = re.sub(r'\\n\\d+\\s*\\nTweet ID:', r'\\nTweet ID:', data)\n",
    "\n",
    "# Split into tweet blocks using 'Tweet ID:' as a reliable delimiter\n",
    "blocks = re.split(r'Tweet ID:\\s*', data)[1:]  # Skip first empty split\n",
    "\n",
    "tweets = {}\n",
    "\n",
    "for block in blocks:\n",
    "    try:\n",
    "        # Capture the tweet ID and extract metadata with regex\n",
    "        match = re.search(\n",
    "            r'^(\\d+)\\s+From User\\s+(.*?)\\s+In reply to tweet ID:\\s+(.*?)\\s+In reply to User:\\s+.*?\\n(.+)',\n",
    "            block.strip(),\n",
    "            re.DOTALL\n",
    "        )\n",
    "\n",
    "        if not match:\n",
    "            print(f\"Skipped malformed block:\\n{block[:200]}\\n\")\n",
    "            continue\n",
    "\n",
    "        tweet_id = match.group(1).strip()\n",
    "        from_user = match.group(2).strip()\n",
    "        in_reply_to_id_raw = match.group(3).strip()\n",
    "        in_reply_to_id = None if in_reply_to_id_raw == 'None' else in_reply_to_id_raw\n",
    "        content = match.group(4).strip()\n",
    "\n",
    "        tweets[tweet_id] = {\n",
    "            'from_user': from_user,\n",
    "            'in_reply_to_id': in_reply_to_id,\n",
    "            'content': content\n",
    "        }\n",
    "\n",
    "    except Exception as e:\n",
    "        print(f\"Error parsing block:\\n{block[:200]}\\nError: {e}\\n\")\n",
    "\n",
    "\n",
    "\n"
   ]
  },
  {
   "cell_type": "code",
   "execution_count": 53,
   "id": "f6d2ea91-6ce7-4c6c-af80-7945141df6bf",
   "metadata": {
    "execution": {
     "iopub.execute_input": "2025-04-02T12:09:41.389584Z",
     "iopub.status.busy": "2025-04-02T12:09:41.389584Z",
     "iopub.status.idle": "2025-04-02T12:09:41.408053Z",
     "shell.execute_reply": "2025-04-02T12:09:41.408053Z",
     "shell.execute_reply.started": "2025-04-02T12:09:41.389584Z"
    }
   },
   "outputs": [
    {
     "data": {
      "text/plain": [
       "{'from_user': 'Mcasey80',\n",
       " 'in_reply_to_id': None,\n",
       " 'content': 'This is my new account since I got banned by twitter. My previous Handle was @ mcasey84. UK KEK.'}"
      ]
     },
     "execution_count": 53,
     "metadata": {},
     "output_type": "execute_result"
    }
   ],
   "source": [
    "# Check if the first tweet is present\n",
    "first_tweet_id = '935173088869847040'\n",
    "first_tweet_info = tweets.get(first_tweet_id, None)\n",
    "\n",
    "first_tweet_info"
   ]
  },
  {
   "cell_type": "code",
   "execution_count": 41,
   "id": "598d3834-5bd3-4e65-8d60-25f0e4cdf484",
   "metadata": {
    "execution": {
     "iopub.execute_input": "2025-04-02T12:03:40.069334Z",
     "iopub.status.busy": "2025-04-02T12:03:40.069334Z",
     "iopub.status.idle": "2025-04-02T12:03:40.144945Z",
     "shell.execute_reply": "2025-04-02T12:03:40.144945Z",
     "shell.execute_reply.started": "2025-04-02T12:03:40.069334Z"
    }
   },
   "outputs": [
    {
     "name": "stdout",
     "output_type": "stream",
     "text": [
      "Total tweets: 35238\n",
      "Total replies (edges): 34815\n"
     ]
    }
   ],
   "source": [
    "# Build graph\n",
    "G = nx.DiGraph()\n",
    "\n",
    "# First, add nodes for all tweets\n",
    "for tweet_id, info in tweets.items():\n",
    "    G.add_node(tweet_id, user=info['from_user'], content=info['content'])\n",
    "\n",
    "# Then, add edges for replies\n",
    "for tweet_id, info in tweets.items():\n",
    "    if info['in_reply_to_id'] and info['in_reply_to_id'] in tweets:\n",
    "        # Directed edge from reply -> original tweet\n",
    "        G.add_edge(info['in_reply_to_id'], tweet_id)\n",
    "\n",
    "# Example: Print basic info\n",
    "print(f\"Total tweets: {len(G.nodes)}\")\n",
    "print(f\"Total replies (edges): {len(G.edges)}\")\n"
   ]
  },
  {
   "cell_type": "code",
   "execution_count": 42,
   "id": "127e7b75-35f6-4ed1-8240-50feb4ea8a7d",
   "metadata": {
    "execution": {
     "iopub.execute_input": "2025-04-02T12:03:43.845674Z",
     "iopub.status.busy": "2025-04-02T12:03:43.845674Z",
     "iopub.status.idle": "2025-04-02T12:03:45.565919Z",
     "shell.execute_reply": "2025-04-02T12:03:45.565919Z",
     "shell.execute_reply.started": "2025-04-02T12:03:43.845674Z"
    }
   },
   "outputs": [
    {
     "data": {
      "text/html": [
       "<div>\n",
       "<style scoped>\n",
       "    .dataframe tbody tr th:only-of-type {\n",
       "        vertical-align: middle;\n",
       "    }\n",
       "\n",
       "    .dataframe tbody tr th {\n",
       "        vertical-align: top;\n",
       "    }\n",
       "\n",
       "    .dataframe thead th {\n",
       "        text-align: right;\n",
       "    }\n",
       "</style>\n",
       "<table border=\"1\" class=\"dataframe\">\n",
       "  <thead>\n",
       "    <tr style=\"text-align: right;\">\n",
       "      <th></th>\n",
       "      <th>Tweet ID</th>\n",
       "      <th>Tweet contents</th>\n",
       "      <th>User</th>\n",
       "      <th>Conversation ID</th>\n",
       "      <th>Number in convo</th>\n",
       "    </tr>\n",
       "  </thead>\n",
       "  <tbody>\n",
       "    <tr>\n",
       "      <th>0</th>\n",
       "      <td>934948011440033794</td>\n",
       "      <td>This is sad. I have many friends and family wi...</td>\n",
       "      <td>DLoesch</td>\n",
       "      <td>1</td>\n",
       "      <td>1</td>\n",
       "    </tr>\n",
       "    <tr>\n",
       "      <th>1</th>\n",
       "      <td>934994526149554176</td>\n",
       "      <td>@DLoesch When libs are pushing to overthrow a ...</td>\n",
       "      <td>RobertL78</td>\n",
       "      <td>1</td>\n",
       "      <td>2</td>\n",
       "    </tr>\n",
       "    <tr>\n",
       "      <th>2</th>\n",
       "      <td>935683215217647616</td>\n",
       "      <td>@RobertL78 @DLoesch Legality is question of hi...</td>\n",
       "      <td>caldwellrobby3</td>\n",
       "      <td>1</td>\n",
       "      <td>3</td>\n",
       "    </tr>\n",
       "    <tr>\n",
       "      <th>3</th>\n",
       "      <td>935919527807746048</td>\n",
       "      <td>@caldwellrobby3 @DLoesch Or maybe the exit pol...</td>\n",
       "      <td>RobertL78</td>\n",
       "      <td>1</td>\n",
       "      <td>4</td>\n",
       "    </tr>\n",
       "    <tr>\n",
       "      <th>4</th>\n",
       "      <td>935919867672215552</td>\n",
       "      <td>@caldwellrobby3 @DLoesch You must mean by \"pur...</td>\n",
       "      <td>RobertL78</td>\n",
       "      <td>1</td>\n",
       "      <td>5</td>\n",
       "    </tr>\n",
       "  </tbody>\n",
       "</table>\n",
       "</div>"
      ],
      "text/plain": [
       "             Tweet ID                                     Tweet contents  \\\n",
       "0  934948011440033794  This is sad. I have many friends and family wi...   \n",
       "1  934994526149554176  @DLoesch When libs are pushing to overthrow a ...   \n",
       "2  935683215217647616  @RobertL78 @DLoesch Legality is question of hi...   \n",
       "3  935919527807746048  @caldwellrobby3 @DLoesch Or maybe the exit pol...   \n",
       "4  935919867672215552  @caldwellrobby3 @DLoesch You must mean by \"pur...   \n",
       "\n",
       "             User  Conversation ID  Number in convo  \n",
       "0         DLoesch                1                1  \n",
       "1       RobertL78                1                2  \n",
       "2  caldwellrobby3                1                3  \n",
       "3       RobertL78                1                4  \n",
       "4       RobertL78                1                5  "
      ]
     },
     "execution_count": 42,
     "metadata": {},
     "output_type": "execute_result"
    }
   ],
   "source": [
    "import pandas as pd\n",
    "import networkx as nx\n",
    "\n",
    "\n",
    "# Step 1: Helper function to trace a tweet's root\n",
    "def find_root(graph, node):\n",
    "    while True:\n",
    "        predecessors = list(graph.predecessors(node))\n",
    "        if not predecessors:\n",
    "            return node\n",
    "        node = predecessors[0]\n",
    "\n",
    "# Step 2: Collect all unique root tweets\n",
    "all_roots = set()\n",
    "\n",
    "for tweet_id in G.nodes:\n",
    "    root = find_root(G, tweet_id)\n",
    "    all_roots.add(root)\n",
    "\n",
    "# Step 3: Longest path DFS from each true root\n",
    "def longest_path_dfs(graph, node, path=None):\n",
    "    if path is None:\n",
    "        path = [node]\n",
    "    neighbors = list(graph.successors(node))\n",
    "    if not neighbors:\n",
    "        return path\n",
    "    longest = path\n",
    "    for neighbor in neighbors:\n",
    "        current_path = longest_path_dfs(graph, neighbor, path + [neighbor])\n",
    "        if len(current_path) > len(longest):\n",
    "            longest = current_path\n",
    "    return longest\n",
    "\n",
    "# Step 4: Store results\n",
    "all_longest_conversations = []\n",
    "conversation_id = 1\n",
    "\n",
    "for start in all_roots:\n",
    "    longest_path = longest_path_dfs(G, start)\n",
    "    if len(longest_path) > 1:\n",
    "        for i, tweet_id in enumerate(longest_path, start=1):\n",
    "            info = tweets[tweet_id]\n",
    "            all_longest_conversations.append({\n",
    "                'Tweet ID': tweet_id,\n",
    "                'Tweet contents': info['content'],\n",
    "                'User': info['from_user'],\n",
    "                'Conversation ID': conversation_id,\n",
    "                'Number in convo': i\n",
    "            })\n",
    "        conversation_id += 1\n",
    "\n",
    "# Step 5: Create the final DataFrame\n",
    "df_conversations = pd.DataFrame(all_longest_conversations)\n",
    "\n",
    "# Optional: Preview\n",
    "df_conversations.head()\n"
   ]
  },
  {
   "cell_type": "code",
   "execution_count": 24,
   "id": "57c6b96a-dc48-4bdc-a370-efcd8035807c",
   "metadata": {
    "execution": {
     "iopub.execute_input": "2025-04-02T11:38:04.179352Z",
     "iopub.status.busy": "2025-04-02T11:38:04.179352Z",
     "iopub.status.idle": "2025-04-02T11:38:04.185453Z",
     "shell.execute_reply": "2025-04-02T11:38:04.185453Z",
     "shell.execute_reply.started": "2025-04-02T11:38:04.179352Z"
    }
   },
   "outputs": [
    {
     "data": {
      "text/html": [
       "<div>\n",
       "<style scoped>\n",
       "    .dataframe tbody tr th:only-of-type {\n",
       "        vertical-align: middle;\n",
       "    }\n",
       "\n",
       "    .dataframe tbody tr th {\n",
       "        vertical-align: top;\n",
       "    }\n",
       "\n",
       "    .dataframe thead th {\n",
       "        text-align: right;\n",
       "    }\n",
       "</style>\n",
       "<table border=\"1\" class=\"dataframe\">\n",
       "  <thead>\n",
       "    <tr style=\"text-align: right;\">\n",
       "      <th></th>\n",
       "      <th>Tweet ID</th>\n",
       "      <th>Tweet contents</th>\n",
       "      <th>User</th>\n",
       "      <th>Conversation ID</th>\n",
       "      <th>Number in convo</th>\n",
       "    </tr>\n",
       "  </thead>\n",
       "  <tbody>\n",
       "    <tr>\n",
       "      <th>0</th>\n",
       "      <td>914734871213432833</td>\n",
       "      <td>@realDonaldTrump @DonaldJTrumpJr @EricTrump  h...</td>\n",
       "      <td>ReallySunnyDay</td>\n",
       "      <td>1</td>\n",
       "      <td>1</td>\n",
       "    </tr>\n",
       "    <tr>\n",
       "      <th>1</th>\n",
       "      <td>914735105293344768</td>\n",
       "      <td>@realDonaldTrump @DonaldJTrumpJr @EricTrump  h...</td>\n",
       "      <td>ReallySunnyDay</td>\n",
       "      <td>1</td>\n",
       "      <td>2</td>\n",
       "    </tr>\n",
       "    <tr>\n",
       "      <th>2</th>\n",
       "      <td>914840150668169217</td>\n",
       "      <td>@realDonaldTrump @DonaldJTrumpJr @EricTrump \"T...</td>\n",
       "      <td>ReallySunnyDay</td>\n",
       "      <td>1</td>\n",
       "      <td>3</td>\n",
       "    </tr>\n",
       "    <tr>\n",
       "      <th>3</th>\n",
       "      <td>935959836205953025</td>\n",
       "      <td>Zero tolerance means consequences – for everyo...</td>\n",
       "      <td>NancyPelosi</td>\n",
       "      <td>2</td>\n",
       "      <td>1</td>\n",
       "    </tr>\n",
       "    <tr>\n",
       "      <th>4</th>\n",
       "      <td>935963714292932608</td>\n",
       "      <td>@NancyPelosi Then, in that regard, you should ...</td>\n",
       "      <td>Uberficker</td>\n",
       "      <td>2</td>\n",
       "      <td>2</td>\n",
       "    </tr>\n",
       "    <tr>\n",
       "      <th>...</th>\n",
       "      <td>...</td>\n",
       "      <td>...</td>\n",
       "      <td>...</td>\n",
       "      <td>...</td>\n",
       "      <td>...</td>\n",
       "    </tr>\n",
       "    <tr>\n",
       "      <th>15720</th>\n",
       "      <td>933340763492143104</td>\n",
       "      <td>@SenateDems @HouseDemocrats @NBCNews @MSNBC @m...</td>\n",
       "      <td>THE5STARLIBERAL</td>\n",
       "      <td>1643</td>\n",
       "      <td>3</td>\n",
       "    </tr>\n",
       "    <tr>\n",
       "      <th>15721</th>\n",
       "      <td>933342443612893184</td>\n",
       "      <td>@SenateDems @HouseDemocrats @NBCNews @MSNBC @m...</td>\n",
       "      <td>THE5STARLIBERAL</td>\n",
       "      <td>1643</td>\n",
       "      <td>4</td>\n",
       "    </tr>\n",
       "    <tr>\n",
       "      <th>15722</th>\n",
       "      <td>933342943620009987</td>\n",
       "      <td>@SenateDems @HouseDemocrats @NBCNews @MSNBC @m...</td>\n",
       "      <td>THE5STARLIBERAL</td>\n",
       "      <td>1643</td>\n",
       "      <td>5</td>\n",
       "    </tr>\n",
       "    <tr>\n",
       "      <th>15723</th>\n",
       "      <td>933344079886323713</td>\n",
       "      <td>@SenateDems @HouseDemocrats @NBCNews @MSNBC @m...</td>\n",
       "      <td>THE5STARLIBERAL</td>\n",
       "      <td>1643</td>\n",
       "      <td>6</td>\n",
       "    </tr>\n",
       "    <tr>\n",
       "      <th>15724</th>\n",
       "      <td>933344434925850625</td>\n",
       "      <td>@SenateDems @HouseDemocrats @NBCNews @MSNBC @m...</td>\n",
       "      <td>THE5STARLIBERAL</td>\n",
       "      <td>1643</td>\n",
       "      <td>7</td>\n",
       "    </tr>\n",
       "  </tbody>\n",
       "</table>\n",
       "<p>15725 rows × 5 columns</p>\n",
       "</div>"
      ],
      "text/plain": [
       "                 Tweet ID                                     Tweet contents  \\\n",
       "0      914734871213432833  @realDonaldTrump @DonaldJTrumpJr @EricTrump  h...   \n",
       "1      914735105293344768  @realDonaldTrump @DonaldJTrumpJr @EricTrump  h...   \n",
       "2      914840150668169217  @realDonaldTrump @DonaldJTrumpJr @EricTrump \"T...   \n",
       "3      935959836205953025  Zero tolerance means consequences – for everyo...   \n",
       "4      935963714292932608  @NancyPelosi Then, in that regard, you should ...   \n",
       "...                   ...                                                ...   \n",
       "15720  933340763492143104  @SenateDems @HouseDemocrats @NBCNews @MSNBC @m...   \n",
       "15721  933342443612893184  @SenateDems @HouseDemocrats @NBCNews @MSNBC @m...   \n",
       "15722  933342943620009987  @SenateDems @HouseDemocrats @NBCNews @MSNBC @m...   \n",
       "15723  933344079886323713  @SenateDems @HouseDemocrats @NBCNews @MSNBC @m...   \n",
       "15724  933344434925850625  @SenateDems @HouseDemocrats @NBCNews @MSNBC @m...   \n",
       "\n",
       "                  User  Conversation ID  Number in convo  \n",
       "0       ReallySunnyDay                1                1  \n",
       "1       ReallySunnyDay                1                2  \n",
       "2       ReallySunnyDay                1                3  \n",
       "3          NancyPelosi                2                1  \n",
       "4           Uberficker                2                2  \n",
       "...                ...              ...              ...  \n",
       "15720  THE5STARLIBERAL             1643                3  \n",
       "15721  THE5STARLIBERAL             1643                4  \n",
       "15722  THE5STARLIBERAL             1643                5  \n",
       "15723  THE5STARLIBERAL             1643                6  \n",
       "15724  THE5STARLIBERAL             1643                7  \n",
       "\n",
       "[15725 rows x 5 columns]"
      ]
     },
     "execution_count": 24,
     "metadata": {},
     "output_type": "execute_result"
    }
   ],
   "source": [
    "df_conversations"
   ]
  },
  {
   "cell_type": "code",
   "execution_count": 52,
   "id": "8cb3e1eb-773d-4bc0-ac7c-ad5437ee20fa",
   "metadata": {
    "execution": {
     "iopub.execute_input": "2025-04-02T12:05:42.906786Z",
     "iopub.status.busy": "2025-04-02T12:05:42.905784Z",
     "iopub.status.idle": "2025-04-02T12:05:42.912588Z",
     "shell.execute_reply": "2025-04-02T12:05:42.912588Z",
     "shell.execute_reply.started": "2025-04-02T12:05:42.906786Z"
    }
   },
   "outputs": [
    {
     "name": "stdout",
     "output_type": "stream",
     "text": [
      "\n",
      "Conversation 1:\n",
      "  1: @DLoesch → This is sad. I have many friends and family with whom I disagree politically. Refusing to engage outside of your bubble is neither healthy nor unifying. https://t.co/TtJbghRLKx\n",
      "  2: @RobertL78 → @DLoesch When libs are pushing to overthrow a legally elected president, undermine our Republic and it's heritage, cram ideological perversities down our throats, and all with an air of self-righteous\n",
      "  3: @caldwellrobby3 → @RobertL78 @DLoesch Legality is question of his legitimacy as president . We already know gop with kris kobach purg… https://t.co/sXzXZE0Fwr\n",
      "  4: @RobertL78 → @caldwellrobby3 @DLoesch Or maybe the exit polls were manipulated like many of the polls which predicted an overwhelming victory for HRC.\n",
      "  5: @RobertL78 → @caldwellrobby3 @DLoesch You must mean by \"purged\" that those ineligible to vote were purged. We now know that vote… https://t.co/HqBT2qETaO\n",
      "  6: @caldwellrobby3 → @RobertL78 @DLoesch When I say purged , I mean . Kris kobach and 32 other gop controlled states would purge legit v… https://t.co/NZVIG4IsKE\n",
      "  7: @RobertL78 → @caldwellrobby3 @DLoesch Are you saying those voters were Dems exclusively? There is a lot of evidence of fraud lik… https://t.co/ZoChNHNMso\n",
      "  8: @caldwellrobby3 → @RobertL78 @DLoesch There is only a handful of cases of fraud in the last ten years . It’s not nearly as bad as gop… https://t.co/gwDKVeH3P7\n",
      "  9: @RobertL78 → @caldwellrobby3 @DLoesch Ok. Read both conservative and liberal sources like New Rep., HuffPo, Amer. Progress Actio… https://t.co/bOIUfjZb3c\n",
      "  10: @RobertL78 → @caldwellrobby3 @DLoesch 2. Some Repub laws excessive like prohibiting prereg. for minors turning 18 at voting time… https://t.co/EhzOkTvD4u\n",
      "  11: @RobertL78 → @caldwellrobby3 @DLoesch 4. Nat'l Voter ID will not disenfranchise anyone any more than requiring welfare recipient… https://t.co/Fo8WPNI7JZ\n",
      "  12: @RobertL78 → @caldwellrobby3 @DLoesch I'm a Latino of Mexican decent and don't have parience for Dems handwrining over voter ID.… https://t.co/vP4UIIRldj\n",
      "\n",
      "Conversation 2:\n",
      "  1: @JoyAnnReid → And let’s say she’s the nominee. Elizabeth Warren will spend the first 4 minutes of every 7 minute TV interview answering the same question: “well ... WERE you dishonest about your heritage?” Rinse...\n",
      "  2: @the_kaboom → @JoyAnnReid \n",
      "\n",
      "Novel idea - She can simply admit that she lied about her heritage for financial and professional gain.\n",
      "\n",
      "Problem solved.\n",
      "\n",
      "EOM\n",
      "  3: @andrea_4_real → @the_kaboom @JoyAnnReid How do you or anyone know she lied? Did something concrete come out?\n",
      "  4: @the_kaboom → @andrea_4_real @JoyAnnReid \n",
      "\n",
      "The one primary reason would be that she has never refuted the plain accusation that she did.\n",
      "\n",
      "EOM\n",
      "  5: @andrea_4_real → @the_kaboom @JoyAnnReid But, there's no concrete proof she's not, right?\n",
      "  6: @CreateCivility → @andrea_4_real @the_kaboom @JoyAnnReid She claimed Native ancestry on her mother's side. I saw a post on Twitter today fr organization that researched her heritage back 6 generations, all noted at tim\n",
      "  7: @andrea_4_real → @CreateCivility @the_kaboom @JoyAnnReid Why are conservatives so obsessed with her heritage?\n",
      "  8: @CreateCivility → @andrea_4_real @the_kaboom @JoyAnnReid I wouldn't say all or even most conservatives give a rip about her ancestry.… https://t.co/gpZMRWoJzU\n",
      "  9: @CreateCivility → @andrea_4_real @the_kaboom @JoyAnnReid Authenticity matters. And in politics, it's rare.\n",
      "  10: @andrea_4_real → @CreateCivility @the_kaboom @JoyAnnReid It matters to conservatives only when it's a democrat. Wish you all would'v… https://t.co/mgzquou2TD\n",
      "  11: @CreateCivility → @andrea_4_real @the_kaboom @JoyAnnReid Just so I understand, who is the \"you all\" to whom you refer? I thought I wa… https://t.co/A43B6sVoBH\n",
      "  12: @andrea_4_real → @CreateCivility @the_kaboom @JoyAnnReid Come on, you know who I'm referring to and if not, read the various tweets/… https://t.co/dEiGqpS6HQ\n",
      "  13: @CreateCivility → @andrea_4_real @the_kaboom @JoyAnnReid I don't - out of principle - lump people together. You believe what you beli… https://t.co/hzwwbkZ9ZU\n",
      "  14: @andrea_4_real → @CreateCivility @the_kaboom @JoyAnnReid \"Principle\"!? Are you kidding me!? Conservatives are funny with their selec… https://t.co/i93SXAYrOj\n",
      "  15: @CreateCivility → @andrea_4_real @the_kaboom @JoyAnnReid Hmm. I wouldn't have thought that the person who wrote \"we're ALL entitled t… https://t.co/5MRzCe8L8R\n",
      "  16: @andrea_4_real → @CreateCivility @the_kaboom @JoyAnnReid Do you support Trump?\n",
      "  17: @CreateCivility → @andrea_4_real @the_kaboom @JoyAnnReid I didn't vote for him. I support him about the same way I supported Obama, w… https://t.co/4UB6udLFnO\n",
      "  18: @andrea_4_real → @CreateCivility @the_kaboom @JoyAnnReid https://t.co/zEZ14eRcuJ.  Do you still support him after reading this?\n",
      "  19: @CreateCivility → @andrea_4_real @the_kaboom @JoyAnnReid Tbh, I don't read pieces analyzing what DJT did/n't say anymore. They nearly… https://t.co/1HMMdBaCce\n",
      "  20: @CreateCivility → @andrea_4_real @the_kaboom @JoyAnnReid I'm clear that *every* player has their own ax to grind - I don't accept any… https://t.co/YdEAPw4zIy\n",
      "  21: @CreateCivility → @andrea_4_real @the_kaboom @JoyAnnReid Sometime in my lifetime, this country has shifted from giving *every* presid… https://t.co/54oWADLdn5\n",
      "  22: @CreateCivility → @andrea_4_real @the_kaboom @JoyAnnReid Bill Clinton was voted in - even though the whole country knew he couldn't k… https://t.co/Iu4O7sgfVr\n",
      "\n",
      "Conversation 3:\n",
      "  1: @RWPUSA → Emotionally he's a mess. But politically he's in control, The media has spent weeks focusing on sexual misconduct (other than his). Meanwhile he guts the CFPB and net neutrality. Senate poised to pass\n",
      "  2: @BlueHenArt → @RWPUSA Mr. Painter...we all share in your frustration and we are awake...yet helpless. The Republic is dying.\n",
      "  3: @Pete_Rudkins → @BlueHenArt @RWPUSA You are only as helpless as your imagination and your will to act allow. People aren't acting on behalf of the media or on behalf of minorities because these attacks don't directly\n",
      "  4: @BlueHenArt → @Pete_Rudkins @RWPUSA That sounds very flowery, but the reality is we are ineffective as we are at this moment in time. The Republic is in the hands of the few with great wealth. The rest of us have b\n",
      "  5: @Pete_Rudkins → @BlueHenArt @RWPUSA This is going to sound extreme, but it isn't. You are living in history right now. It requires historical action: mass demonstrations, walk outs, boycotts, etc....\n",
      "  6: @jj5barry → @Pete_Rudkins @LauraVanVleet @BlueHenArt @RWPUSA funny - your timing is impeccable https://t.co/20seTFUWBO\n",
      "  7: @Pete_Rudkins → @jj5barry @LauraVanVleet @BlueHenArt @RWPUSA Something more than hoping GOP Congress acts needs to happen. So, more and more people are going to be having these conversations.\n",
      "  8: @jj5barry → @Pete_Rudkins @LauraVanVleet @BlueHenArt @RWPUSA https://t.co/gFDdVVIKZM\n",
      "  9: @Pete_Rudkins → @jj5barry @LauraVanVleet @BlueHenArt @RWPUSA It seems because our unions have been gutted, or have been almost forgotten as political forces, we forget the power of walkouts and general strikes, wheth\n",
      "  10: @jj5barry → @Pete_Rudkins @LauraVanVleet @BlueHenArt @RWPUSA exactly - isn't it time we all came together?\n",
      "  11: @BlueHenArt → @jj5barry @Pete_Rudkins @LauraVanVleet @RWPUSA YES! Trump is losing it. It is time to get him removed from office.\n"
     ]
    }
   ],
   "source": [
    "for convo_id in df_conversations['Conversation ID'].unique()[:3]:\n",
    "    print(f\"\\nConversation {convo_id}:\")\n",
    "    sub = df_conversations[df_conversations['Conversation ID'] == convo_id]\n",
    "    for _, row in sub.iterrows():\n",
    "        print(f\"  {row['Number in convo']}: @{row['User']} → {row['Tweet contents'][:200]}\")"
   ]
  },
  {
   "cell_type": "code",
   "execution_count": 45,
   "id": "c128ba41-d95e-49ab-9f8e-d0bf85658539",
   "metadata": {
    "execution": {
     "iopub.execute_input": "2025-04-02T12:04:32.115129Z",
     "iopub.status.busy": "2025-04-02T12:04:32.115129Z",
     "iopub.status.idle": "2025-04-02T12:04:32.133971Z",
     "shell.execute_reply": "2025-04-02T12:04:32.133971Z",
     "shell.execute_reply.started": "2025-04-02T12:04:32.115129Z"
    }
   },
   "outputs": [
    {
     "name": "stdout",
     "output_type": "stream",
     "text": [
      "Original root tweets not included in df_conversations: 0\n"
     ]
    }
   ],
   "source": [
    "original_tweet_ids = [tid for tid, info in tweets.items() if info['in_reply_to_id'] is None]\n",
    "starting_tweet_ids = df_conversations[df_conversations['Number in convo'] == 1]['Tweet ID'].tolist()\n",
    "missing_roots = [tid for tid in original_tweet_ids if tid not in starting_tweet_ids]\n",
    "print(f\"Original root tweets not included in df_conversations: {len(missing_roots)}\")\n",
    "\n",
    "# Optional: Show a few examples\n",
    "for tid in missing_roots[:5]:\n",
    "    print(f\"Missing root tweet: {tid} — {tweets[tid]['from_user']} — {tweets[tid]['content'][:80]}\")\n"
   ]
  },
  {
   "cell_type": "code",
   "execution_count": 48,
   "id": "fa75fd2f-9350-4ab0-8f32-b754e645ea4f",
   "metadata": {
    "execution": {
     "iopub.execute_input": "2025-04-02T12:04:44.704046Z",
     "iopub.status.busy": "2025-04-02T12:04:44.704046Z",
     "iopub.status.idle": "2025-04-02T12:04:44.706880Z",
     "shell.execute_reply": "2025-04-02T12:04:44.706880Z",
     "shell.execute_reply.started": "2025-04-02T12:04:44.704046Z"
    }
   },
   "outputs": [
    {
     "name": "stdout",
     "output_type": "stream",
     "text": [
      "Total parsed tweets: 35238\n"
     ]
    }
   ],
   "source": [
    "print(f\"Total parsed tweets: {len(tweets)}\")\n"
   ]
  },
  {
   "cell_type": "code",
   "execution_count": 57,
   "id": "b22444d9-e749-4f83-9524-3a2cd7a68dac",
   "metadata": {
    "execution": {
     "iopub.execute_input": "2025-04-02T12:10:25.018219Z",
     "iopub.status.busy": "2025-04-02T12:10:25.017218Z",
     "iopub.status.idle": "2025-04-02T12:10:26.282313Z",
     "shell.execute_reply": "2025-04-02T12:10:26.282313Z",
     "shell.execute_reply.started": "2025-04-02T12:10:25.018219Z"
    }
   },
   "outputs": [
    {
     "data": {
      "image/png": "[encoded data removed]",
      "text/plain": [
       "<Figure size 1000x600 with 1 Axes>"
      ]
     },
     "metadata": {},
     "output_type": "display_data"
    }
   ],
   "source": [
    "import matplotlib.pyplot as plt\n",
    "\n",
    "# Step 1: Calculate conversation lengths\n",
    "conversation_lengths = df_conversations.groupby(\"Conversation ID\")[\"Tweet ID\"].count()\n",
    "\n",
    "# Step 2: Plot with fewer x-axis ticks\n",
    "plt.figure(figsize=(10, 6))\n",
    "plt.hist(conversation_lengths, bins=range(2, conversation_lengths.max() + 2), edgecolor='black')\n",
    "\n",
    "plt.title(\"Distribution of Conversation Lengths\")\n",
    "plt.xlabel(\"Number of Tweets in Conversation\")\n",
    "plt.ylabel(\"Number of Conversations\")\n",
    "\n",
    "# Only show every nth x-tick\n",
    "tick_spacing = 200  # Change to 5 if you want even fewer ticks\n",
    "x_ticks = list(range(0, conversation_lengths.max() + 1, tick_spacing))\n",
    "plt.xticks(x_ticks)\n",
    "\n",
    "plt.tight_layout()\n",
    "plt.show()\n"
   ]
  },
  {
   "cell_type": "code",
   "execution_count": null,
   "id": "7848f44b-b6e9-4bd6-a4da-bdf760fe2290",
   "metadata": {},
   "outputs": [],
   "source": [
    "df_conversations.to_csv(\""
   ]
  }
 ],
 "metadata": {
  "kernelspec": {
   "display_name": "Python 3 (ipykernel)",
   "language": "python",
   "name": "python3"
  },
  "language_info": {
   "codemirror_mode": {
    "name": "ipython",
    "version": 3
   },
   "file_extension": ".py",
   "mimetype": "text/x-python",
   "name": "python",
   "nbconvert_exporter": "python",
   "pygments_lexer": "ipython3",
   "version": "3.12.4"
  }
 },
 "nbformat": 4,
 "nbformat_minor": 5
}
